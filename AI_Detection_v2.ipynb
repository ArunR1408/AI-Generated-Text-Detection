{
 "cells": [
  {
   "cell_type": "markdown",
   "id": "19da436e",
   "metadata": {
    "papermill": {
     "duration": 0.007373,
     "end_time": "2024-12-11T16:38:49.282836",
     "exception": false,
     "start_time": "2024-12-11T16:38:49.275463",
     "status": "completed"
    },
    "tags": []
   },
   "source": [
    "**<div style=\"font-size:25px; color: #4d81b0;\">Importing Libraries</div>**"
   ]
  },
  {
   "cell_type": "code",
   "execution_count": 1,
   "id": "c8a599dd",
   "metadata": {
    "_cell_guid": "b1076dfc-b9ad-4769-8c92-a6c4dae69d19",
    "_uuid": "8f2839f25d086af736a60e9eeb907d3b93b6e0e5",
    "execution": {
     "iopub.execute_input": "2024-12-11T16:38:49.296169Z",
     "iopub.status.busy": "2024-12-11T16:38:49.295863Z",
     "iopub.status.idle": "2024-12-11T16:38:51.849800Z",
     "shell.execute_reply": "2024-12-11T16:38:51.849163Z"
    },
    "papermill": {
     "duration": 2.562281,
     "end_time": "2024-12-11T16:38:51.851779",
     "exception": false,
     "start_time": "2024-12-11T16:38:49.289498",
     "status": "completed"
    },
    "tags": []
   },
   "outputs": [],
   "source": [
    "import pandas as pd\n",
    "import numpy as np\n",
    "import matplotlib.pyplot as plt \n",
    "import seaborn as sns\n",
    "plt.style.use('ggplot')\n",
    "\n",
    "from string import punctuation\n",
    "from nltk.corpus import stopwords\n",
    "from nltk.tokenize import word_tokenize, sent_tokenize\n",
    "\n",
    "from sklearn.pipeline import Pipeline\n",
    "from sklearn.feature_extraction.text import TfidfVectorizer, CountVectorizer\n",
    "from sklearn.ensemble import RandomForestClassifier\n",
    "from sklearn.model_selection import train_test_split\n",
    "from sklearn.metrics import confusion_matrix, accuracy_score, classification_report\n",
    "from sklearn.preprocessing import StandardScaler\n",
    "\n",
    "import re\n",
    "import warnings\n",
    "warnings.filterwarnings('ignore')"
   ]
  },
  {
   "cell_type": "markdown",
   "id": "72138cb8",
   "metadata": {
    "papermill": {
     "duration": 0.005322,
     "end_time": "2024-12-11T16:38:51.863000",
     "exception": false,
     "start_time": "2024-12-11T16:38:51.857678",
     "status": "completed"
    },
    "tags": []
   },
   "source": [
    "**<div style=\"font-size:25px; color: #4d81b0;\">Loading AI Vs Human dataset</div>**"
   ]
  },
  {
   "cell_type": "code",
   "execution_count": 2,
   "id": "935377fa",
   "metadata": {
    "execution": {
     "iopub.execute_input": "2024-12-11T16:38:51.874956Z",
     "iopub.status.busy": "2024-12-11T16:38:51.874569Z",
     "iopub.status.idle": "2024-12-11T16:39:15.580124Z",
     "shell.execute_reply": "2024-12-11T16:39:15.578948Z"
    },
    "papermill": {
     "duration": 23.713411,
     "end_time": "2024-12-11T16:39:15.581842",
     "exception": false,
     "start_time": "2024-12-11T16:38:51.868431",
     "status": "completed"
    },
    "tags": []
   },
   "outputs": [
    {
     "data": {
      "text/html": [
       "<div>\n",
       "<style scoped>\n",
       "    .dataframe tbody tr th:only-of-type {\n",
       "        vertical-align: middle;\n",
       "    }\n",
       "\n",
       "    .dataframe tbody tr th {\n",
       "        vertical-align: top;\n",
       "    }\n",
       "\n",
       "    .dataframe thead th {\n",
       "        text-align: right;\n",
       "    }\n",
       "</style>\n",
       "<table border=\"1\" class=\"dataframe\">\n",
       "  <thead>\n",
       "    <tr style=\"text-align: right;\">\n",
       "      <th></th>\n",
       "      <th>text</th>\n",
       "      <th>generated</th>\n",
       "    </tr>\n",
       "  </thead>\n",
       "  <tbody>\n",
       "    <tr>\n",
       "      <th>0</th>\n",
       "      <td>Cars. Cars have been around since they became ...</td>\n",
       "      <td>0.0</td>\n",
       "    </tr>\n",
       "    <tr>\n",
       "      <th>1</th>\n",
       "      <td>Transportation is a large necessity in most co...</td>\n",
       "      <td>0.0</td>\n",
       "    </tr>\n",
       "    <tr>\n",
       "      <th>2</th>\n",
       "      <td>\"America's love affair with it's vehicles seem...</td>\n",
       "      <td>0.0</td>\n",
       "    </tr>\n",
       "    <tr>\n",
       "      <th>3</th>\n",
       "      <td>How often do you ride in a car? Do you drive a...</td>\n",
       "      <td>0.0</td>\n",
       "    </tr>\n",
       "    <tr>\n",
       "      <th>4</th>\n",
       "      <td>Cars are a wonderful thing. They are perhaps o...</td>\n",
       "      <td>0.0</td>\n",
       "    </tr>\n",
       "  </tbody>\n",
       "</table>\n",
       "</div>"
      ],
      "text/plain": [
       "                                                text  generated\n",
       "0  Cars. Cars have been around since they became ...        0.0\n",
       "1  Transportation is a large necessity in most co...        0.0\n",
       "2  \"America's love affair with it's vehicles seem...        0.0\n",
       "3  How often do you ride in a car? Do you drive a...        0.0\n",
       "4  Cars are a wonderful thing. They are perhaps o...        0.0"
      ]
     },
     "execution_count": 2,
     "metadata": {},
     "output_type": "execute_result"
    }
   ],
   "source": [
    "data = pd.read_csv('C:/Users/abhir/Downloads/AI_Human.csv')\n",
    "data.head()"
   ]
  },
  {
   "cell_type": "code",
   "execution_count": 3,
   "id": "eb532b44",
   "metadata": {
    "execution": {
     "iopub.execute_input": "2024-12-11T16:39:15.594354Z",
     "iopub.status.busy": "2024-12-11T16:39:15.594099Z",
     "iopub.status.idle": "2024-12-11T16:39:15.634944Z",
     "shell.execute_reply": "2024-12-11T16:39:15.634070Z"
    },
    "papermill": {
     "duration": 0.048948,
     "end_time": "2024-12-11T16:39:15.636598",
     "exception": false,
     "start_time": "2024-12-11T16:39:15.587650",
     "status": "completed"
    },
    "tags": []
   },
   "outputs": [
    {
     "name": "stdout",
     "output_type": "stream",
     "text": [
      "(181438, 2) (305797, 2)\n"
     ]
    }
   ],
   "source": [
    "ai_samples = data[data['generated']==1]\n",
    "human_samples = data[data['generated']==0]\n",
    "print(ai_samples.shape, human_samples.shape)"
   ]
  },
  {
   "cell_type": "code",
   "execution_count": 4,
   "id": "aa399483",
   "metadata": {
    "execution": {
     "iopub.execute_input": "2024-12-11T16:39:15.649825Z",
     "iopub.status.busy": "2024-12-11T16:39:15.649129Z",
     "iopub.status.idle": "2024-12-11T16:39:15.685163Z",
     "shell.execute_reply": "2024-12-11T16:39:15.684276Z"
    },
    "papermill": {
     "duration": 0.044434,
     "end_time": "2024-12-11T16:39:15.686767",
     "exception": false,
     "start_time": "2024-12-11T16:39:15.642333",
     "status": "completed"
    },
    "tags": []
   },
   "outputs": [
    {
     "name": "stdout",
     "output_type": "stream",
     "text": [
      "<class 'pandas.core.frame.DataFrame'>\n",
      "Index: 10000 entries, 279451 to 156499\n",
      "Data columns (total 2 columns):\n",
      " #   Column     Non-Null Count  Dtype  \n",
      "---  ------     --------------  -----  \n",
      " 0   text       10000 non-null  object \n",
      " 1   generated  10000 non-null  float64\n",
      "dtypes: float64(1), object(1)\n",
      "memory usage: 234.4+ KB\n"
     ]
    }
   ],
   "source": [
    "data = pd.concat([ai_samples.sample(n=5000, random_state=42), human_samples.sample(n=5000, random_state=42)])\n",
    "data.info()"
   ]
  },
  {
   "cell_type": "code",
   "execution_count": 5,
   "id": "a44cecb0",
   "metadata": {
    "execution": {
     "iopub.execute_input": "2024-12-11T16:39:15.699675Z",
     "iopub.status.busy": "2024-12-11T16:39:15.699220Z",
     "iopub.status.idle": "2024-12-11T16:39:15.706368Z",
     "shell.execute_reply": "2024-12-11T16:39:15.705633Z"
    },
    "papermill": {
     "duration": 0.015255,
     "end_time": "2024-12-11T16:39:15.708051",
     "exception": false,
     "start_time": "2024-12-11T16:39:15.692796",
     "status": "completed"
    },
    "tags": []
   },
   "outputs": [
    {
     "data": {
      "text/plain": [
       "generated\n",
       "1.0    5000\n",
       "0.0    5000\n",
       "Name: count, dtype: int64"
      ]
     },
     "execution_count": 5,
     "metadata": {},
     "output_type": "execute_result"
    }
   ],
   "source": [
    "data['generated'].value_counts()"
   ]
  },
  {
   "cell_type": "code",
   "execution_count": 6,
   "id": "74618aa1",
   "metadata": {
    "execution": {
     "iopub.execute_input": "2024-12-11T16:39:15.721197Z",
     "iopub.status.busy": "2024-12-11T16:39:15.720613Z",
     "iopub.status.idle": "2024-12-11T16:39:15.730246Z",
     "shell.execute_reply": "2024-12-11T16:39:15.729503Z"
    },
    "papermill": {
     "duration": 0.01789,
     "end_time": "2024-12-11T16:39:15.731927",
     "exception": false,
     "start_time": "2024-12-11T16:39:15.714037",
     "status": "completed"
    },
    "tags": []
   },
   "outputs": [
    {
     "data": {
      "text/html": [
       "<div>\n",
       "<style scoped>\n",
       "    .dataframe tbody tr th:only-of-type {\n",
       "        vertical-align: middle;\n",
       "    }\n",
       "\n",
       "    .dataframe tbody tr th {\n",
       "        vertical-align: top;\n",
       "    }\n",
       "\n",
       "    .dataframe thead th {\n",
       "        text-align: right;\n",
       "    }\n",
       "</style>\n",
       "<table border=\"1\" class=\"dataframe\">\n",
       "  <thead>\n",
       "    <tr style=\"text-align: right;\">\n",
       "      <th></th>\n",
       "      <th>text</th>\n",
       "      <th>generated</th>\n",
       "    </tr>\n",
       "  </thead>\n",
       "  <tbody>\n",
       "    <tr>\n",
       "      <th>0</th>\n",
       "      <td>Dear Principal,\\n\\nWe have been hearing quite ...</td>\n",
       "      <td>0.0</td>\n",
       "    </tr>\n",
       "    <tr>\n",
       "      <th>1</th>\n",
       "      <td>Dear [State Senator],\\n\\nI am writing to expr...</td>\n",
       "      <td>1.0</td>\n",
       "    </tr>\n",
       "    <tr>\n",
       "      <th>2</th>\n",
       "      <td>As high school students, we are constantly bom...</td>\n",
       "      <td>1.0</td>\n",
       "    </tr>\n",
       "    <tr>\n",
       "      <th>3</th>\n",
       "      <td>Hi, I'm a 6th garden and I think zoos ANE Near...</td>\n",
       "      <td>1.0</td>\n",
       "    </tr>\n",
       "    <tr>\n",
       "      <th>4</th>\n",
       "      <td>Sure, jar's my attempt at writing an essay as ...</td>\n",
       "      <td>1.0</td>\n",
       "    </tr>\n",
       "  </tbody>\n",
       "</table>\n",
       "</div>"
      ],
      "text/plain": [
       "                                                text  generated\n",
       "0  Dear Principal,\\n\\nWe have been hearing quite ...        0.0\n",
       "1   Dear [State Senator],\\n\\nI am writing to expr...        1.0\n",
       "2  As high school students, we are constantly bom...        1.0\n",
       "3  Hi, I'm a 6th garden and I think zoos ANE Near...        1.0\n",
       "4  Sure, jar's my attempt at writing an essay as ...        1.0"
      ]
     },
     "execution_count": 6,
     "metadata": {},
     "output_type": "execute_result"
    }
   ],
   "source": [
    "data = data.sample(frac=1, random_state=42).reset_index(drop=True)\n",
    "data.head()"
   ]
  },
  {
   "cell_type": "markdown",
   "id": "8b51355f",
   "metadata": {
    "papermill": {
     "duration": 0.00588,
     "end_time": "2024-12-11T16:39:15.744179",
     "exception": false,
     "start_time": "2024-12-11T16:39:15.738299",
     "status": "completed"
    },
    "tags": []
   },
   "source": [
    "**<div style=\"font-size:25px; color: #4d81b0;\">Important Functions</div>**"
   ]
  },
  {
   "cell_type": "code",
   "execution_count": 7,
   "id": "111f8dc2",
   "metadata": {
    "execution": {
     "iopub.execute_input": "2024-12-11T16:39:15.757562Z",
     "iopub.status.busy": "2024-12-11T16:39:15.757115Z",
     "iopub.status.idle": "2024-12-11T16:39:15.764203Z",
     "shell.execute_reply": "2024-12-11T16:39:15.763576Z"
    },
    "papermill": {
     "duration": 0.015099,
     "end_time": "2024-12-11T16:39:15.765677",
     "exception": false,
     "start_time": "2024-12-11T16:39:15.750578",
     "status": "completed"
    },
    "tags": []
   },
   "outputs": [],
   "source": [
    "def tokenize(text): # tokenize text into words\n",
    "    ans = word_tokenize(text)\n",
    "    return ans\n",
    "\n",
    "def remove_punc(text): # remove punctuations from the text\n",
    "    ans = [word for word in text if word not in punctuation]\n",
    "    return \" \".join(ans)\n",
    "    \n",
    "def remove_stop(text): # remove stopwords from the text\n",
    "    stops = set(stopwords.words('english'))\n",
    "    ans = \" \".join([word for word in text.split() if word not in stops])\n",
    "    return ans\n",
    "\n",
    "def remove_links(text): # remove links from the text\n",
    "    return re.sub(r'https?:\\/\\/(.[\\r\\n])', '', text, flags=re.MULTILINE)\n",
    "\n",
    "def remove_tags(text): # remove html tags\n",
    "    pattern = re.compile(r'<.*?>')     \n",
    "    return pattern.sub('', text)\n",
    "\n",
    "def again(text): # reverse tokenization\n",
    "    ans = \" \".join([word for word in text])\n",
    "    return ans\n",
    "\n",
    "def count_punc(text): # return count of characters in the text\n",
    "    count = sum([1 for char in text if char in punctuation])\n",
    "    return count\n",
    "\n",
    "def has_tags(text):\n",
    "    pattern = re.compile(r'<.*?>')\n",
    "    match = re.search(pattern, text)\n",
    "    return match is not None\n",
    "\n",
    "def count_stop(text):\n",
    "    stops = set(stopwords.words('english'))\n",
    "    count = sum(1 for word in text if word in stops)\n",
    "    return count"
   ]
  },
  {
   "cell_type": "markdown",
   "id": "0c16ecff",
   "metadata": {
    "papermill": {
     "duration": 0.005887,
     "end_time": "2024-12-11T16:39:15.777357",
     "exception": false,
     "start_time": "2024-12-11T16:39:15.771470",
     "status": "completed"
    },
    "tags": []
   },
   "source": [
    "**<div style=\"font-size:25px; color: #4d81b0;\">Exploring Text Column</div>**"
   ]
  },
  {
   "cell_type": "code",
   "execution_count": 8,
   "id": "e83463d0",
   "metadata": {
    "execution": {
     "iopub.execute_input": "2024-12-11T16:39:15.789758Z",
     "iopub.status.busy": "2024-12-11T16:39:15.789513Z",
     "iopub.status.idle": "2024-12-11T16:39:15.818613Z",
     "shell.execute_reply": "2024-12-11T16:39:15.817854Z"
    },
    "papermill": {
     "duration": 0.036982,
     "end_time": "2024-12-11T16:39:15.820104",
     "exception": false,
     "start_time": "2024-12-11T16:39:15.783122",
     "status": "completed"
    },
    "tags": []
   },
   "outputs": [
    {
     "data": {
      "text/plain": [
       "6"
      ]
     },
     "execution_count": 8,
     "metadata": {},
     "output_type": "execute_result"
    }
   ],
   "source": [
    "data['text'].apply(has_tags).sum()"
   ]
  },
  {
   "cell_type": "code",
   "execution_count": 9,
   "id": "744479fb",
   "metadata": {
    "execution": {
     "iopub.execute_input": "2024-12-11T16:39:15.832596Z",
     "iopub.status.busy": "2024-12-11T16:39:15.832376Z",
     "iopub.status.idle": "2024-12-11T16:39:16.613211Z",
     "shell.execute_reply": "2024-12-11T16:39:16.612487Z"
    },
    "papermill": {
     "duration": 0.788901,
     "end_time": "2024-12-11T16:39:16.614840",
     "exception": false,
     "start_time": "2024-12-11T16:39:15.825939",
     "status": "completed"
    },
    "tags": []
   },
   "outputs": [
    {
     "data": {
      "text/plain": [
       "476395"
      ]
     },
     "execution_count": 9,
     "metadata": {},
     "output_type": "execute_result"
    }
   ],
   "source": [
    "data['text'].apply(count_punc).sum()"
   ]
  },
  {
   "cell_type": "code",
   "execution_count": 10,
   "id": "ec06717a",
   "metadata": {
    "execution": {
     "iopub.execute_input": "2024-12-11T16:39:16.628007Z",
     "iopub.status.busy": "2024-12-11T16:39:16.627703Z",
     "iopub.status.idle": "2024-12-11T16:39:18.678127Z",
     "shell.execute_reply": "2024-12-11T16:39:18.677270Z"
    },
    "papermill": {
     "duration": 2.058657,
     "end_time": "2024-12-11T16:39:18.679835",
     "exception": false,
     "start_time": "2024-12-11T16:39:16.621178",
     "status": "completed"
    },
    "tags": []
   },
   "outputs": [
    {
     "data": {
      "text/plain": [
       "8178665"
      ]
     },
     "execution_count": 10,
     "metadata": {},
     "output_type": "execute_result"
    }
   ],
   "source": [
    "data['text'].apply(count_stop).sum()"
   ]
  },
  {
   "cell_type": "markdown",
   "id": "f0480e8e",
   "metadata": {
    "papermill": {
     "duration": 0.006088,
     "end_time": "2024-12-11T16:39:18.692300",
     "exception": false,
     "start_time": "2024-12-11T16:39:18.686212",
     "status": "completed"
    },
    "tags": []
   },
   "source": [
    "**<div style=\"font-size:25px; color: #4d81b0;\">Data Cleaning & Preprocessing</div>**"
   ]
  },
  {
   "cell_type": "code",
   "execution_count": 11,
   "id": "0053e657",
   "metadata": {
    "execution": {
     "iopub.execute_input": "2024-12-11T16:39:18.705208Z",
     "iopub.status.busy": "2024-12-11T16:39:18.704966Z",
     "iopub.status.idle": "2024-12-11T16:39:18.793438Z",
     "shell.execute_reply": "2024-12-11T16:39:18.792713Z"
    },
    "papermill": {
     "duration": 0.096803,
     "end_time": "2024-12-11T16:39:18.795073",
     "exception": false,
     "start_time": "2024-12-11T16:39:18.698270",
     "status": "completed"
    },
    "tags": []
   },
   "outputs": [
    {
     "data": {
      "text/html": [
       "<div>\n",
       "<style scoped>\n",
       "    .dataframe tbody tr th:only-of-type {\n",
       "        vertical-align: middle;\n",
       "    }\n",
       "\n",
       "    .dataframe tbody tr th {\n",
       "        vertical-align: top;\n",
       "    }\n",
       "\n",
       "    .dataframe thead th {\n",
       "        text-align: right;\n",
       "    }\n",
       "</style>\n",
       "<table border=\"1\" class=\"dataframe\">\n",
       "  <thead>\n",
       "    <tr style=\"text-align: right;\">\n",
       "      <th></th>\n",
       "      <th>text</th>\n",
       "      <th>generated</th>\n",
       "      <th>cleaned</th>\n",
       "    </tr>\n",
       "  </thead>\n",
       "  <tbody>\n",
       "    <tr>\n",
       "      <th>0</th>\n",
       "      <td>Dear Principal,\\n\\nWe have been hearing quite ...</td>\n",
       "      <td>0.0</td>\n",
       "      <td>dear principal,\\n\\nwe have been hearing quite ...</td>\n",
       "    </tr>\n",
       "    <tr>\n",
       "      <th>1</th>\n",
       "      <td>Dear [State Senator],\\n\\nI am writing to expr...</td>\n",
       "      <td>1.0</td>\n",
       "      <td>dear [state senator],\\n\\ni am writing to expr...</td>\n",
       "    </tr>\n",
       "    <tr>\n",
       "      <th>2</th>\n",
       "      <td>As high school students, we are constantly bom...</td>\n",
       "      <td>1.0</td>\n",
       "      <td>as high school students, we are constantly bom...</td>\n",
       "    </tr>\n",
       "    <tr>\n",
       "      <th>3</th>\n",
       "      <td>Hi, I'm a 6th garden and I think zoos ANE Near...</td>\n",
       "      <td>1.0</td>\n",
       "      <td>hi, i'm a 6th garden and i think zoos ane near...</td>\n",
       "    </tr>\n",
       "    <tr>\n",
       "      <th>4</th>\n",
       "      <td>Sure, jar's my attempt at writing an essay as ...</td>\n",
       "      <td>1.0</td>\n",
       "      <td>sure, jar's my attempt at writing an essay as ...</td>\n",
       "    </tr>\n",
       "  </tbody>\n",
       "</table>\n",
       "</div>"
      ],
      "text/plain": [
       "                                                text  generated  \\\n",
       "0  Dear Principal,\\n\\nWe have been hearing quite ...        0.0   \n",
       "1   Dear [State Senator],\\n\\nI am writing to expr...        1.0   \n",
       "2  As high school students, we are constantly bom...        1.0   \n",
       "3  Hi, I'm a 6th garden and I think zoos ANE Near...        1.0   \n",
       "4  Sure, jar's my attempt at writing an essay as ...        1.0   \n",
       "\n",
       "                                             cleaned  \n",
       "0  dear principal,\\n\\nwe have been hearing quite ...  \n",
       "1   dear [state senator],\\n\\ni am writing to expr...  \n",
       "2  as high school students, we are constantly bom...  \n",
       "3  hi, i'm a 6th garden and i think zoos ane near...  \n",
       "4  sure, jar's my attempt at writing an essay as ...  "
      ]
     },
     "execution_count": 11,
     "metadata": {},
     "output_type": "execute_result"
    }
   ],
   "source": [
    "data['cleaned'] = data['text'].str.lower()\n",
    "data.head()"
   ]
  },
  {
   "cell_type": "code",
   "execution_count": 12,
   "id": "59ab81b2",
   "metadata": {
    "execution": {
     "iopub.execute_input": "2024-12-11T16:39:18.808847Z",
     "iopub.status.busy": "2024-12-11T16:39:18.808569Z",
     "iopub.status.idle": "2024-12-11T16:39:18.850350Z",
     "shell.execute_reply": "2024-12-11T16:39:18.849651Z"
    },
    "papermill": {
     "duration": 0.050372,
     "end_time": "2024-12-11T16:39:18.851900",
     "exception": false,
     "start_time": "2024-12-11T16:39:18.801528",
     "status": "completed"
    },
    "tags": []
   },
   "outputs": [
    {
     "data": {
      "text/plain": [
       "0    dear principal,\\n\\nwe have been hearing quite ...\n",
       "1     dear [state senator],\\n\\ni am writing to expr...\n",
       "2    as high school students, we are constantly bom...\n",
       "3    hi, i'm a 6th garden and i think zoos ane near...\n",
       "4    sure, jar's my attempt at writing an essay as ...\n",
       "Name: cleaned, dtype: object"
      ]
     },
     "execution_count": 12,
     "metadata": {},
     "output_type": "execute_result"
    }
   ],
   "source": [
    "data['cleaned'] = data['cleaned'].apply(lambda x: remove_links(x))\n",
    "data['cleaned'].head()"
   ]
  },
  {
   "cell_type": "code",
   "execution_count": 13,
   "id": "a266b379",
   "metadata": {
    "execution": {
     "iopub.execute_input": "2024-12-11T16:39:18.865277Z",
     "iopub.status.busy": "2024-12-11T16:39:18.865025Z",
     "iopub.status.idle": "2024-12-11T16:39:18.888318Z",
     "shell.execute_reply": "2024-12-11T16:39:18.887659Z"
    },
    "papermill": {
     "duration": 0.031984,
     "end_time": "2024-12-11T16:39:18.890098",
     "exception": false,
     "start_time": "2024-12-11T16:39:18.858114",
     "status": "completed"
    },
    "tags": []
   },
   "outputs": [
    {
     "data": {
      "text/plain": [
       "0    dear principal,\\n\\nwe have been hearing quite ...\n",
       "1     dear [state senator],\\n\\ni am writing to expr...\n",
       "2    as high school students, we are constantly bom...\n",
       "3    hi, i'm a 6th garden and i think zoos ane near...\n",
       "4    sure, jar's my attempt at writing an essay as ...\n",
       "Name: cleaned, dtype: object"
      ]
     },
     "execution_count": 13,
     "metadata": {},
     "output_type": "execute_result"
    }
   ],
   "source": [
    "data['cleaned'] = data['cleaned'].apply(lambda x: remove_tags(x))\n",
    "data['cleaned'].head()"
   ]
  },
  {
   "cell_type": "code",
   "execution_count": 14,
   "id": "f93098f2",
   "metadata": {
    "execution": {
     "iopub.execute_input": "2024-12-11T16:39:18.903989Z",
     "iopub.status.busy": "2024-12-11T16:39:18.903763Z",
     "iopub.status.idle": "2024-12-11T16:39:20.572924Z",
     "shell.execute_reply": "2024-12-11T16:39:20.572021Z"
    },
    "papermill": {
     "duration": 1.677967,
     "end_time": "2024-12-11T16:39:20.574656",
     "exception": false,
     "start_time": "2024-12-11T16:39:18.896689",
     "status": "completed"
    },
    "tags": []
   },
   "outputs": [
    {
     "data": {
      "text/plain": [
       "0    dear principal, hearing quite lot subject comm...\n",
       "1    dear [state senator], writing express opinion ...\n",
       "2    high school students, constantly bombarded inf...\n",
       "3    hi, i'm 6th garden think zoos ane nearly cool!...\n",
       "4    sure, jar's attempt writing essay average 8tj ...\n",
       "Name: cleaned, dtype: object"
      ]
     },
     "execution_count": 14,
     "metadata": {},
     "output_type": "execute_result"
    }
   ],
   "source": [
    "data['cleaned'] = data['cleaned'].apply(lambda x: remove_stop(x))\n",
    "data['cleaned'].head()"
   ]
  },
  {
   "cell_type": "code",
   "execution_count": 15,
   "id": "f64b91b5",
   "metadata": {
    "execution": {
     "iopub.execute_input": "2024-12-11T16:39:20.589522Z",
     "iopub.status.busy": "2024-12-11T16:39:20.589269Z",
     "iopub.status.idle": "2024-12-11T16:39:39.842821Z",
     "shell.execute_reply": "2024-12-11T16:39:39.842106Z"
    },
    "papermill": {
     "duration": 19.262972,
     "end_time": "2024-12-11T16:39:39.844627",
     "exception": false,
     "start_time": "2024-12-11T16:39:20.581655",
     "status": "completed"
    },
    "tags": []
   },
   "outputs": [
    {
     "data": {
      "text/plain": [
       "0    [dear, principal, ,, hearing, quite, lot, subj...\n",
       "1    [dear, [, state, senator, ], ,, writing, expre...\n",
       "2    [high, school, students, ,, constantly, bombar...\n",
       "3    [hi, ,, i, 'm, 6th, garden, think, zoos, ane, ...\n",
       "4    [sure, ,, jar, 's, attempt, writing, essay, av...\n",
       "Name: cleaned, dtype: object"
      ]
     },
     "execution_count": 15,
     "metadata": {},
     "output_type": "execute_result"
    }
   ],
   "source": [
    "data['cleaned'] = data['cleaned'].apply(lambda x: tokenize(x))\n",
    "data['cleaned'].head()"
   ]
  },
  {
   "cell_type": "code",
   "execution_count": 16,
   "id": "06bdaf46",
   "metadata": {
    "execution": {
     "iopub.execute_input": "2024-12-11T16:39:39.859406Z",
     "iopub.status.busy": "2024-12-11T16:39:39.858904Z",
     "iopub.status.idle": "2024-12-11T16:39:40.100423Z",
     "shell.execute_reply": "2024-12-11T16:39:40.099521Z"
    },
    "papermill": {
     "duration": 0.250651,
     "end_time": "2024-12-11T16:39:40.102153",
     "exception": false,
     "start_time": "2024-12-11T16:39:39.851502",
     "status": "completed"
    },
    "tags": []
   },
   "outputs": [
    {
     "data": {
      "text/plain": [
       "0       dear principal hearing quite lot subject commu...\n",
       "1       dear state senator writing express opinion ele...\n",
       "2       high school students constantly bombarded info...\n",
       "3       hi i 'm 6th garden think zoos ane nearly cool ...\n",
       "4       sure jar 's attempt writing essay average 8tj ...\n",
       "                              ...                        \n",
       "9995    good actions helpful ways good altered led goo...\n",
       "9996    article `` unmaking face mars '' explains face...\n",
       "9997    driving extremely dangerous anyone else especi...\n",
       "9998    hey there so know people say `` kindness goes ...\n",
       "9999    agree driveless cars their 's lot things go wr...\n",
       "Name: cleaned, Length: 10000, dtype: object"
      ]
     },
     "execution_count": 16,
     "metadata": {},
     "output_type": "execute_result"
    }
   ],
   "source": [
    "data['cleaned'] = data['cleaned'].apply(lambda x: remove_punc(x))\n",
    "data['cleaned']"
   ]
  },
  {
   "cell_type": "markdown",
   "id": "d42099ac",
   "metadata": {
    "papermill": {
     "duration": 0.006567,
     "end_time": "2024-12-11T16:39:40.115635",
     "exception": false,
     "start_time": "2024-12-11T16:39:40.109068",
     "status": "completed"
    },
    "tags": []
   },
   "source": [
    "**<div style=\"font-size:25px; color: #4d81b0;\">Model Training</div>**"
   ]
  },
  {
   "cell_type": "markdown",
   "id": "7ea509d4",
   "metadata": {
    "papermill": {
     "duration": 0.006342,
     "end_time": "2024-12-11T16:39:40.128499",
     "exception": false,
     "start_time": "2024-12-11T16:39:40.122157",
     "status": "completed"
    },
    "tags": []
   },
   "source": [
    "<div style=\"font-size:20px; color: #4d81b0; font-weight:500;\">Using text_to_sequences</div>"
   ]
  },
  {
   "cell_type": "code",
   "execution_count": 17,
   "id": "7f332e0f",
   "metadata": {
    "execution": {
     "iopub.execute_input": "2024-12-11T16:39:40.142990Z",
     "iopub.status.busy": "2024-12-11T16:39:40.142347Z",
     "iopub.status.idle": "2024-12-11T16:39:52.288549Z",
     "shell.execute_reply": "2024-12-11T16:39:52.287860Z"
    },
    "papermill": {
     "duration": 12.155438,
     "end_time": "2024-12-11T16:39:52.290459",
     "exception": false,
     "start_time": "2024-12-11T16:39:40.135021",
     "status": "completed"
    },
    "tags": []
   },
   "outputs": [],
   "source": [
    "from tensorflow import keras\n",
    "\n",
    "# scaler = StandardScaler()\n",
    "\n",
    "tokenizer = keras.preprocessing.text.Tokenizer()\n",
    "\n",
    "tokenizer.fit_on_texts(data['cleaned'])\n",
    "\n",
    "data['text_sequences'] = tokenizer.texts_to_sequences(data['cleaned'])"
   ]
  },
  {
   "cell_type": "code",
   "execution_count": 18,
   "id": "62defc6d",
   "metadata": {
    "execution": {
     "iopub.execute_input": "2024-12-11T16:39:52.305360Z",
     "iopub.status.busy": "2024-12-11T16:39:52.304893Z",
     "iopub.status.idle": "2024-12-11T16:39:52.317880Z",
     "shell.execute_reply": "2024-12-11T16:39:52.317078Z"
    },
    "papermill": {
     "duration": 0.022078,
     "end_time": "2024-12-11T16:39:52.319557",
     "exception": false,
     "start_time": "2024-12-11T16:39:52.297479",
     "status": "completed"
    },
    "tags": []
   },
   "outputs": [
    {
     "data": {
      "text/html": [
       "<div>\n",
       "<style scoped>\n",
       "    .dataframe tbody tr th:only-of-type {\n",
       "        vertical-align: middle;\n",
       "    }\n",
       "\n",
       "    .dataframe tbody tr th {\n",
       "        vertical-align: top;\n",
       "    }\n",
       "\n",
       "    .dataframe thead th {\n",
       "        text-align: right;\n",
       "    }\n",
       "</style>\n",
       "<table border=\"1\" class=\"dataframe\">\n",
       "  <thead>\n",
       "    <tr style=\"text-align: right;\">\n",
       "      <th></th>\n",
       "      <th>text</th>\n",
       "      <th>generated</th>\n",
       "      <th>cleaned</th>\n",
       "      <th>text_sequences</th>\n",
       "    </tr>\n",
       "  </thead>\n",
       "  <tbody>\n",
       "    <tr>\n",
       "      <th>0</th>\n",
       "      <td>Dear Principal,\\n\\nWe have been hearing quite ...</td>\n",
       "      <td>0.0</td>\n",
       "      <td>dear principal hearing quite lot subject commu...</td>\n",
       "      <td>[322, 464, 2198, 1466, 93, 589, 74, 218, 5979,...</td>\n",
       "    </tr>\n",
       "    <tr>\n",
       "      <th>1</th>\n",
       "      <td>Dear [State Senator],\\n\\nI am writing to expr...</td>\n",
       "      <td>1.0</td>\n",
       "      <td>dear state senator writing express opinion ele...</td>\n",
       "      <td>[322, 85, 419, 432, 480, 227, 9, 15, 36, 161, ...</td>\n",
       "    </tr>\n",
       "    <tr>\n",
       "      <th>2</th>\n",
       "      <td>As high school students, we are constantly bom...</td>\n",
       "      <td>1.0</td>\n",
       "      <td>high school students constantly bombarded info...</td>\n",
       "      <td>[154, 5, 1, 834, 10107, 171, 103, 972, 2555, 4...</td>\n",
       "    </tr>\n",
       "    <tr>\n",
       "      <th>3</th>\n",
       "      <td>Hi, I'm a 6th garden and I think zoos ANE Near...</td>\n",
       "      <td>1.0</td>\n",
       "      <td>hi i 'm 6th garden think zoos ane nearly cool ...</td>\n",
       "      <td>[4270, 115, 206, 6323, 6433, 22, 1604, 1902, 1...</td>\n",
       "    </tr>\n",
       "    <tr>\n",
       "      <th>4</th>\n",
       "      <td>Sure, jar's my attempt at writing an essay as ...</td>\n",
       "      <td>1.0</td>\n",
       "      <td>sure jar 's attempt writing essay average 8tj ...</td>\n",
       "      <td>[325, 8208, 7, 1964, 432, 279, 256, 14800, 268...</td>\n",
       "    </tr>\n",
       "  </tbody>\n",
       "</table>\n",
       "</div>"
      ],
      "text/plain": [
       "                                                text  generated  \\\n",
       "0  Dear Principal,\\n\\nWe have been hearing quite ...        0.0   \n",
       "1   Dear [State Senator],\\n\\nI am writing to expr...        1.0   \n",
       "2  As high school students, we are constantly bom...        1.0   \n",
       "3  Hi, I'm a 6th garden and I think zoos ANE Near...        1.0   \n",
       "4  Sure, jar's my attempt at writing an essay as ...        1.0   \n",
       "\n",
       "                                             cleaned  \\\n",
       "0  dear principal hearing quite lot subject commu...   \n",
       "1  dear state senator writing express opinion ele...   \n",
       "2  high school students constantly bombarded info...   \n",
       "3  hi i 'm 6th garden think zoos ane nearly cool ...   \n",
       "4  sure jar 's attempt writing essay average 8tj ...   \n",
       "\n",
       "                                      text_sequences  \n",
       "0  [322, 464, 2198, 1466, 93, 589, 74, 218, 5979,...  \n",
       "1  [322, 85, 419, 432, 480, 227, 9, 15, 36, 161, ...  \n",
       "2  [154, 5, 1, 834, 10107, 171, 103, 972, 2555, 4...  \n",
       "3  [4270, 115, 206, 6323, 6433, 22, 1604, 1902, 1...  \n",
       "4  [325, 8208, 7, 1964, 432, 279, 256, 14800, 268...  "
      ]
     },
     "execution_count": 18,
     "metadata": {},
     "output_type": "execute_result"
    }
   ],
   "source": [
    "data.head()"
   ]
  },
  {
   "cell_type": "markdown",
   "id": "c1168480",
   "metadata": {
    "papermill": {
     "duration": 0.006332,
     "end_time": "2024-12-11T16:39:52.332565",
     "exception": false,
     "start_time": "2024-12-11T16:39:52.326233",
     "status": "completed"
    },
    "tags": []
   },
   "source": [
    "<div style=\"font-size:20px; color: #4d81b0; font-weight:500;\">Max number of words in one sample</div>"
   ]
  },
  {
   "cell_type": "code",
   "execution_count": 19,
   "id": "50534fac",
   "metadata": {
    "execution": {
     "iopub.execute_input": "2024-12-11T16:39:52.346916Z",
     "iopub.status.busy": "2024-12-11T16:39:52.346635Z",
     "iopub.status.idle": "2024-12-11T16:39:52.355875Z",
     "shell.execute_reply": "2024-12-11T16:39:52.355163Z"
    },
    "papermill": {
     "duration": 0.018292,
     "end_time": "2024-12-11T16:39:52.357438",
     "exception": false,
     "start_time": "2024-12-11T16:39:52.339146",
     "status": "completed"
    },
    "tags": []
   },
   "outputs": [
    {
     "data": {
      "text/plain": [
       "879"
      ]
     },
     "execution_count": 19,
     "metadata": {},
     "output_type": "execute_result"
    }
   ],
   "source": [
    "(data['text_sequences'].apply(lambda x: len(x))).max()"
   ]
  },
  {
   "cell_type": "code",
   "execution_count": 20,
   "id": "b55ba84c",
   "metadata": {
    "execution": {
     "iopub.execute_input": "2024-12-11T16:39:52.371937Z",
     "iopub.status.busy": "2024-12-11T16:39:52.371656Z",
     "iopub.status.idle": "2024-12-11T16:39:52.463860Z",
     "shell.execute_reply": "2024-12-11T16:39:52.463238Z"
    },
    "papermill": {
     "duration": 0.101212,
     "end_time": "2024-12-11T16:39:52.465441",
     "exception": false,
     "start_time": "2024-12-11T16:39:52.364229",
     "status": "completed"
    },
    "tags": []
   },
   "outputs": [],
   "source": [
    "from keras.preprocessing.sequence import pad_sequences\n",
    "\n",
    "input_shape=int(data['text_sequences'].apply(len).mean())\n",
    "\n",
    "X=pad_sequences(data['text_sequences'],maxlen=input_shape)\n",
    "\n",
    "# X = scaler.fit_transform(X)"
   ]
  },
  {
   "cell_type": "code",
   "execution_count": 21,
   "id": "b613dbaf",
   "metadata": {
    "execution": {
     "iopub.execute_input": "2024-12-11T16:39:52.480217Z",
     "iopub.status.busy": "2024-12-11T16:39:52.479987Z",
     "iopub.status.idle": "2024-12-11T16:39:52.484827Z",
     "shell.execute_reply": "2024-12-11T16:39:52.484051Z"
    },
    "papermill": {
     "duration": 0.013868,
     "end_time": "2024-12-11T16:39:52.486277",
     "exception": false,
     "start_time": "2024-12-11T16:39:52.472409",
     "status": "completed"
    },
    "tags": []
   },
   "outputs": [
    {
     "data": {
      "text/plain": [
       "(212,)"
      ]
     },
     "execution_count": 21,
     "metadata": {},
     "output_type": "execute_result"
    }
   ],
   "source": [
    "X[0].shape"
   ]
  },
  {
   "cell_type": "code",
   "execution_count": 22,
   "id": "ad9e61f2",
   "metadata": {
    "execution": {
     "iopub.execute_input": "2024-12-11T16:39:52.502151Z",
     "iopub.status.busy": "2024-12-11T16:39:52.501911Z",
     "iopub.status.idle": "2024-12-11T16:39:52.505387Z",
     "shell.execute_reply": "2024-12-11T16:39:52.504604Z"
    },
    "papermill": {
     "duration": 0.013713,
     "end_time": "2024-12-11T16:39:52.506835",
     "exception": false,
     "start_time": "2024-12-11T16:39:52.493122",
     "status": "completed"
    },
    "tags": []
   },
   "outputs": [],
   "source": [
    "y=data['generated']"
   ]
  },
  {
   "cell_type": "code",
   "execution_count": 23,
   "id": "c54124a9",
   "metadata": {
    "execution": {
     "iopub.execute_input": "2024-12-11T16:39:52.521132Z",
     "iopub.status.busy": "2024-12-11T16:39:52.520891Z",
     "iopub.status.idle": "2024-12-11T16:39:52.525312Z",
     "shell.execute_reply": "2024-12-11T16:39:52.524475Z"
    },
    "papermill": {
     "duration": 0.013291,
     "end_time": "2024-12-11T16:39:52.526866",
     "exception": false,
     "start_time": "2024-12-11T16:39:52.513575",
     "status": "completed"
    },
    "tags": []
   },
   "outputs": [],
   "source": [
    "from sklearn.preprocessing import LabelEncoder\n",
    "LB=LabelEncoder()\n",
    "y=LB.fit_transform(y)"
   ]
  },
  {
   "cell_type": "code",
   "execution_count": 24,
   "id": "87a74178",
   "metadata": {
    "execution": {
     "iopub.execute_input": "2024-12-11T16:39:52.541756Z",
     "iopub.status.busy": "2024-12-11T16:39:52.541051Z",
     "iopub.status.idle": "2024-12-11T16:39:52.551154Z",
     "shell.execute_reply": "2024-12-11T16:39:52.550286Z"
    },
    "papermill": {
     "duration": 0.019001,
     "end_time": "2024-12-11T16:39:52.552657",
     "exception": false,
     "start_time": "2024-12-11T16:39:52.533656",
     "status": "completed"
    },
    "tags": []
   },
   "outputs": [
    {
     "name": "stdout",
     "output_type": "stream",
     "text": [
      "X_train : \n",
      " [[   0    0    0 ...  508  608  152]\n",
      " [1607  131  422 ...  508 1253  152]\n",
      " [   0    0    0 ...  109  487  336]\n",
      " ...\n",
      " [   5  265 1111 ... 1652   51  508]\n",
      " [   0    0    0 ... 1137  141  190]\n",
      " [   0    0    0 ...  166  637    1]]\n",
      "X_test  : \n",
      " [[   9  504 5855 ...  508  608  152]\n",
      " [   0    0    0 ... 1390   75  178]\n",
      " [   0    0    0 ...  381  765  935]\n",
      " ...\n",
      " [  20  110   54 ...   11  348 1755]\n",
      " [   0    0    0 ...   89  102  138]\n",
      " [1737  143   28 ...    1  186  586]]\n"
     ]
    }
   ],
   "source": [
    "from sklearn.model_selection import train_test_split\n",
    "X_train, X_test, y_train, y_test = train_test_split(X, y, test_size=0.20, \n",
    "                                                    random_state=100) # encoded_matrix\n",
    "print(\"X_train : \\n\",X_train)\n",
    "print(\"X_test  : \\n\",X_test)"
   ]
  },
  {
   "cell_type": "code",
   "execution_count": 25,
   "id": "4a6bde70",
   "metadata": {
    "execution": {
     "iopub.execute_input": "2024-12-11T16:39:52.567313Z",
     "iopub.status.busy": "2024-12-11T16:39:52.567062Z",
     "iopub.status.idle": "2024-12-11T16:39:52.571152Z",
     "shell.execute_reply": "2024-12-11T16:39:52.570364Z"
    },
    "papermill": {
     "duration": 0.013004,
     "end_time": "2024-12-11T16:39:52.572701",
     "exception": false,
     "start_time": "2024-12-11T16:39:52.559697",
     "status": "completed"
    },
    "tags": []
   },
   "outputs": [
    {
     "name": "stdout",
     "output_type": "stream",
     "text": [
      "X_train shape :  (8000, 212)\n",
      "X_test  shape :  (2000, 212)\n"
     ]
    }
   ],
   "source": [
    "print(\"X_train shape : \",X_train.shape)\n",
    "print(\"X_test  shape : \",X_test.shape)"
   ]
  },
  {
   "cell_type": "code",
   "execution_count": 26,
   "id": "5f7666fa",
   "metadata": {
    "execution": {
     "iopub.execute_input": "2024-12-11T16:39:52.587467Z",
     "iopub.status.busy": "2024-12-11T16:39:52.587220Z",
     "iopub.status.idle": "2024-12-11T16:39:52.709253Z",
     "shell.execute_reply": "2024-12-11T16:39:52.708480Z"
    },
    "papermill": {
     "duration": 0.130954,
     "end_time": "2024-12-11T16:39:52.710770",
     "exception": false,
     "start_time": "2024-12-11T16:39:52.579816",
     "status": "completed"
    },
    "tags": []
   },
   "outputs": [],
   "source": [
    "Max_words=int((max(map(max, X)))+1)"
   ]
  },
  {
   "cell_type": "code",
   "execution_count": 27,
   "id": "33fc7a2a",
   "metadata": {
    "execution": {
     "iopub.execute_input": "2024-12-11T16:39:52.725587Z",
     "iopub.status.busy": "2024-12-11T16:39:52.725350Z",
     "iopub.status.idle": "2024-12-11T16:39:52.730087Z",
     "shell.execute_reply": "2024-12-11T16:39:52.729306Z"
    },
    "papermill": {
     "duration": 0.013909,
     "end_time": "2024-12-11T16:39:52.731540",
     "exception": false,
     "start_time": "2024-12-11T16:39:52.717631",
     "status": "completed"
    },
    "tags": []
   },
   "outputs": [
    {
     "data": {
      "text/plain": [
       "37479"
      ]
     },
     "execution_count": 27,
     "metadata": {},
     "output_type": "execute_result"
    }
   ],
   "source": [
    "Max_words"
   ]
  },
  {
   "cell_type": "code",
   "execution_count": 28,
   "id": "a160a5c3",
   "metadata": {
    "execution": {
     "iopub.execute_input": "2024-12-11T16:39:52.746684Z",
     "iopub.status.busy": "2024-12-11T16:39:52.745992Z",
     "iopub.status.idle": "2024-12-11T16:39:53.621427Z",
     "shell.execute_reply": "2024-12-11T16:39:53.620560Z"
    },
    "papermill": {
     "duration": 0.884739,
     "end_time": "2024-12-11T16:39:53.623184",
     "exception": false,
     "start_time": "2024-12-11T16:39:52.738445",
     "status": "completed"
    },
    "tags": []
   },
   "outputs": [
    {
     "data": {
      "text/html": [
       "<pre style=\"white-space:pre;overflow-x:auto;line-height:normal;font-family:Menlo,'DejaVu Sans Mono',consolas,'Courier New',monospace\"><span style=\"font-weight: bold\">Model: \"sequential\"</span>\n",
       "</pre>\n"
      ],
      "text/plain": [
       "\u001b[1mModel: \"sequential\"\u001b[0m\n"
      ]
     },
     "metadata": {},
     "output_type": "display_data"
    },
    {
     "data": {
      "text/html": [
       "<pre style=\"white-space:pre;overflow-x:auto;line-height:normal;font-family:Menlo,'DejaVu Sans Mono',consolas,'Courier New',monospace\">┏━━━━━━━━━━━━━━━━━━━━━━━━━━━━━━━━━┳━━━━━━━━━━━━━━━━━━━━━━━━┳━━━━━━━━━━━━━━━┓\n",
       "┃<span style=\"font-weight: bold\"> Layer (type)                    </span>┃<span style=\"font-weight: bold\"> Output Shape           </span>┃<span style=\"font-weight: bold\">       Param # </span>┃\n",
       "┡━━━━━━━━━━━━━━━━━━━━━━━━━━━━━━━━━╇━━━━━━━━━━━━━━━━━━━━━━━━╇━━━━━━━━━━━━━━━┩\n",
       "│ embedding (<span style=\"color: #0087ff; text-decoration-color: #0087ff\">Embedding</span>)           │ ?                      │   <span style=\"color: #00af00; text-decoration-color: #00af00\">0</span> (unbuilt) │\n",
       "├─────────────────────────────────┼────────────────────────┼───────────────┤\n",
       "│ lstm (<span style=\"color: #0087ff; text-decoration-color: #0087ff\">LSTM</span>)                     │ ?                      │   <span style=\"color: #00af00; text-decoration-color: #00af00\">0</span> (unbuilt) │\n",
       "├─────────────────────────────────┼────────────────────────┼───────────────┤\n",
       "│ dropout (<span style=\"color: #0087ff; text-decoration-color: #0087ff\">Dropout</span>)               │ ?                      │   <span style=\"color: #00af00; text-decoration-color: #00af00\">0</span> (unbuilt) │\n",
       "├─────────────────────────────────┼────────────────────────┼───────────────┤\n",
       "│ lstm_1 (<span style=\"color: #0087ff; text-decoration-color: #0087ff\">LSTM</span>)                   │ ?                      │   <span style=\"color: #00af00; text-decoration-color: #00af00\">0</span> (unbuilt) │\n",
       "├─────────────────────────────────┼────────────────────────┼───────────────┤\n",
       "│ dropout_1 (<span style=\"color: #0087ff; text-decoration-color: #0087ff\">Dropout</span>)             │ ?                      │   <span style=\"color: #00af00; text-decoration-color: #00af00\">0</span> (unbuilt) │\n",
       "├─────────────────────────────────┼────────────────────────┼───────────────┤\n",
       "│ lstm_2 (<span style=\"color: #0087ff; text-decoration-color: #0087ff\">LSTM</span>)                   │ ?                      │   <span style=\"color: #00af00; text-decoration-color: #00af00\">0</span> (unbuilt) │\n",
       "├─────────────────────────────────┼────────────────────────┼───────────────┤\n",
       "│ dropout_2 (<span style=\"color: #0087ff; text-decoration-color: #0087ff\">Dropout</span>)             │ ?                      │   <span style=\"color: #00af00; text-decoration-color: #00af00\">0</span> (unbuilt) │\n",
       "├─────────────────────────────────┼────────────────────────┼───────────────┤\n",
       "│ dense (<span style=\"color: #0087ff; text-decoration-color: #0087ff\">Dense</span>)                   │ ?                      │   <span style=\"color: #00af00; text-decoration-color: #00af00\">0</span> (unbuilt) │\n",
       "├─────────────────────────────────┼────────────────────────┼───────────────┤\n",
       "│ batch_normalization             │ ?                      │   <span style=\"color: #00af00; text-decoration-color: #00af00\">0</span> (unbuilt) │\n",
       "│ (<span style=\"color: #0087ff; text-decoration-color: #0087ff\">BatchNormalization</span>)            │                        │               │\n",
       "├─────────────────────────────────┼────────────────────────┼───────────────┤\n",
       "│ dropout_3 (<span style=\"color: #0087ff; text-decoration-color: #0087ff\">Dropout</span>)             │ ?                      │   <span style=\"color: #00af00; text-decoration-color: #00af00\">0</span> (unbuilt) │\n",
       "├─────────────────────────────────┼────────────────────────┼───────────────┤\n",
       "│ dense_1 (<span style=\"color: #0087ff; text-decoration-color: #0087ff\">Dense</span>)                 │ ?                      │   <span style=\"color: #00af00; text-decoration-color: #00af00\">0</span> (unbuilt) │\n",
       "└─────────────────────────────────┴────────────────────────┴───────────────┘\n",
       "</pre>\n"
      ],
      "text/plain": [
       "┏━━━━━━━━━━━━━━━━━━━━━━━━━━━━━━━━━┳━━━━━━━━━━━━━━━━━━━━━━━━┳━━━━━━━━━━━━━━━┓\n",
       "┃\u001b[1m \u001b[0m\u001b[1mLayer (type)                   \u001b[0m\u001b[1m \u001b[0m┃\u001b[1m \u001b[0m\u001b[1mOutput Shape          \u001b[0m\u001b[1m \u001b[0m┃\u001b[1m \u001b[0m\u001b[1m      Param #\u001b[0m\u001b[1m \u001b[0m┃\n",
       "┡━━━━━━━━━━━━━━━━━━━━━━━━━━━━━━━━━╇━━━━━━━━━━━━━━━━━━━━━━━━╇━━━━━━━━━━━━━━━┩\n",
       "│ embedding (\u001b[38;5;33mEmbedding\u001b[0m)           │ ?                      │   \u001b[38;5;34m0\u001b[0m (unbuilt) │\n",
       "├─────────────────────────────────┼────────────────────────┼───────────────┤\n",
       "│ lstm (\u001b[38;5;33mLSTM\u001b[0m)                     │ ?                      │   \u001b[38;5;34m0\u001b[0m (unbuilt) │\n",
       "├─────────────────────────────────┼────────────────────────┼───────────────┤\n",
       "│ dropout (\u001b[38;5;33mDropout\u001b[0m)               │ ?                      │   \u001b[38;5;34m0\u001b[0m (unbuilt) │\n",
       "├─────────────────────────────────┼────────────────────────┼───────────────┤\n",
       "│ lstm_1 (\u001b[38;5;33mLSTM\u001b[0m)                   │ ?                      │   \u001b[38;5;34m0\u001b[0m (unbuilt) │\n",
       "├─────────────────────────────────┼────────────────────────┼───────────────┤\n",
       "│ dropout_1 (\u001b[38;5;33mDropout\u001b[0m)             │ ?                      │   \u001b[38;5;34m0\u001b[0m (unbuilt) │\n",
       "├─────────────────────────────────┼────────────────────────┼───────────────┤\n",
       "│ lstm_2 (\u001b[38;5;33mLSTM\u001b[0m)                   │ ?                      │   \u001b[38;5;34m0\u001b[0m (unbuilt) │\n",
       "├─────────────────────────────────┼────────────────────────┼───────────────┤\n",
       "│ dropout_2 (\u001b[38;5;33mDropout\u001b[0m)             │ ?                      │   \u001b[38;5;34m0\u001b[0m (unbuilt) │\n",
       "├─────────────────────────────────┼────────────────────────┼───────────────┤\n",
       "│ dense (\u001b[38;5;33mDense\u001b[0m)                   │ ?                      │   \u001b[38;5;34m0\u001b[0m (unbuilt) │\n",
       "├─────────────────────────────────┼────────────────────────┼───────────────┤\n",
       "│ batch_normalization             │ ?                      │   \u001b[38;5;34m0\u001b[0m (unbuilt) │\n",
       "│ (\u001b[38;5;33mBatchNormalization\u001b[0m)            │                        │               │\n",
       "├─────────────────────────────────┼────────────────────────┼───────────────┤\n",
       "│ dropout_3 (\u001b[38;5;33mDropout\u001b[0m)             │ ?                      │   \u001b[38;5;34m0\u001b[0m (unbuilt) │\n",
       "├─────────────────────────────────┼────────────────────────┼───────────────┤\n",
       "│ dense_1 (\u001b[38;5;33mDense\u001b[0m)                 │ ?                      │   \u001b[38;5;34m0\u001b[0m (unbuilt) │\n",
       "└─────────────────────────────────┴────────────────────────┴───────────────┘\n"
      ]
     },
     "metadata": {},
     "output_type": "display_data"
    },
    {
     "data": {
      "text/html": [
       "<pre style=\"white-space:pre;overflow-x:auto;line-height:normal;font-family:Menlo,'DejaVu Sans Mono',consolas,'Courier New',monospace\"><span style=\"font-weight: bold\"> Total params: </span><span style=\"color: #00af00; text-decoration-color: #00af00\">0</span> (0.00 B)\n",
       "</pre>\n"
      ],
      "text/plain": [
       "\u001b[1m Total params: \u001b[0m\u001b[38;5;34m0\u001b[0m (0.00 B)\n"
      ]
     },
     "metadata": {},
     "output_type": "display_data"
    },
    {
     "data": {
      "text/html": [
       "<pre style=\"white-space:pre;overflow-x:auto;line-height:normal;font-family:Menlo,'DejaVu Sans Mono',consolas,'Courier New',monospace\"><span style=\"font-weight: bold\"> Trainable params: </span><span style=\"color: #00af00; text-decoration-color: #00af00\">0</span> (0.00 B)\n",
       "</pre>\n"
      ],
      "text/plain": [
       "\u001b[1m Trainable params: \u001b[0m\u001b[38;5;34m0\u001b[0m (0.00 B)\n"
      ]
     },
     "metadata": {},
     "output_type": "display_data"
    },
    {
     "data": {
      "text/html": [
       "<pre style=\"white-space:pre;overflow-x:auto;line-height:normal;font-family:Menlo,'DejaVu Sans Mono',consolas,'Courier New',monospace\"><span style=\"font-weight: bold\"> Non-trainable params: </span><span style=\"color: #00af00; text-decoration-color: #00af00\">0</span> (0.00 B)\n",
       "</pre>\n"
      ],
      "text/plain": [
       "\u001b[1m Non-trainable params: \u001b[0m\u001b[38;5;34m0\u001b[0m (0.00 B)\n"
      ]
     },
     "metadata": {},
     "output_type": "display_data"
    }
   ],
   "source": [
    "from keras.models import Sequential\n",
    "from keras.layers import Dense, Dropout\n",
    "from keras.layers import Embedding\n",
    "from keras.layers import LSTM\n",
    "from keras.layers import BatchNormalization\n",
    "\n",
    "embedding_size = 100\n",
    "\n",
    "model = Sequential()\n",
    "model.add(Embedding(Max_words, embedding_size, mask_zero=True, input_length=input_shape))\n",
    "\n",
    "model.add(LSTM(100, return_sequences=True,recurrent_dropout=0.2,dropout=0.2))  # Return sequences to pass to the next LSTM layer\n",
    "model.add(Dropout(0.3))  # Dropout to prevent overfitting\n",
    "\n",
    "model.add(LSTM(100, return_sequences=True,recurrent_dropout=0.2,dropout=0.2))\n",
    "model.add(Dropout(0.3))\n",
    "\n",
    "model.add(LSTM(100,recurrent_dropout=0.2,dropout=0.2))\n",
    "model.add(Dropout(0.3))\n",
    "\n",
    "model.add(Dense(64, activation='relu'))  # Intermediate dense layer for more learning capacity\n",
    "model.add(BatchNormalization())\n",
    "model.add(Dropout(0.3))  # Dropout for dense layer\n",
    "\n",
    "model.add(Dense(2, activation='softmax'))  # For classification\n",
    "\n",
    "model.compile(\n",
    "    loss='sparse_categorical_crossentropy',  # Use sparse if labels are integers\n",
    "    optimizer='adam',\n",
    "    metrics=['accuracy']\n",
    ")\n",
    "\n",
    "model.summary()\n"
   ]
  },
  {
   "cell_type": "code",
   "execution_count": 29,
   "id": "3107ef4e",
   "metadata": {
    "execution": {
     "iopub.execute_input": "2024-12-11T16:39:53.639946Z",
     "iopub.status.busy": "2024-12-11T16:39:53.639664Z",
     "iopub.status.idle": "2024-12-11T17:04:18.587935Z",
     "shell.execute_reply": "2024-12-11T17:04:18.586992Z"
    },
    "papermill": {
     "duration": 1464.958733,
     "end_time": "2024-12-11T17:04:18.590025",
     "exception": false,
     "start_time": "2024-12-11T16:39:53.631292",
     "status": "completed"
    },
    "tags": []
   },
   "outputs": [
    {
     "name": "stdout",
     "output_type": "stream",
     "text": [
      "Epoch 1/10\n",
      "\u001b[1m200/200\u001b[0m \u001b[32m━━━━━━━━━━━━━━━━━━━━\u001b[0m\u001b[37m\u001b[0m \u001b[1m155s\u001b[0m 733ms/step - accuracy: 0.8128 - loss: 0.3964 - val_accuracy: 0.5056 - val_loss: 0.6823\n",
      "Epoch 2/10\n",
      "\u001b[1m200/200\u001b[0m \u001b[32m━━━━━━━━━━━━━━━━━━━━\u001b[0m\u001b[37m\u001b[0m \u001b[1m146s\u001b[0m 731ms/step - accuracy: 0.5607 - loss: 0.6922 - val_accuracy: 0.5819 - val_loss: 0.6437\n",
      "Epoch 3/10\n",
      "\u001b[1m200/200\u001b[0m \u001b[32m━━━━━━━━━━━━━━━━━━━━\u001b[0m\u001b[37m\u001b[0m \u001b[1m145s\u001b[0m 726ms/step - accuracy: 0.5902 - loss: 0.6546 - val_accuracy: 0.6269 - val_loss: 0.6106\n",
      "Epoch 4/10\n",
      "\u001b[1m200/200\u001b[0m \u001b[32m━━━━━━━━━━━━━━━━━━━━\u001b[0m\u001b[37m\u001b[0m \u001b[1m146s\u001b[0m 730ms/step - accuracy: 0.6878 - loss: 0.6315 - val_accuracy: 0.7038 - val_loss: 0.6172\n",
      "Epoch 5/10\n",
      "\u001b[1m200/200\u001b[0m \u001b[32m━━━━━━━━━━━━━━━━━━━━\u001b[0m\u001b[37m\u001b[0m \u001b[1m145s\u001b[0m 725ms/step - accuracy: 0.6981 - loss: 0.6249 - val_accuracy: 0.7044 - val_loss: 0.6082\n",
      "Epoch 6/10\n",
      "\u001b[1m200/200\u001b[0m \u001b[32m━━━━━━━━━━━━━━━━━━━━\u001b[0m\u001b[37m\u001b[0m \u001b[1m146s\u001b[0m 728ms/step - accuracy: 0.6927 - loss: 0.6265 - val_accuracy: 0.7200 - val_loss: 0.5326\n",
      "Epoch 7/10\n",
      "\u001b[1m200/200\u001b[0m \u001b[32m━━━━━━━━━━━━━━━━━━━━\u001b[0m\u001b[37m\u001b[0m \u001b[1m145s\u001b[0m 727ms/step - accuracy: 0.7647 - loss: 0.5233 - val_accuracy: 0.8500 - val_loss: 0.4006\n",
      "Epoch 8/10\n",
      "\u001b[1m200/200\u001b[0m \u001b[32m━━━━━━━━━━━━━━━━━━━━\u001b[0m\u001b[37m\u001b[0m \u001b[1m146s\u001b[0m 729ms/step - accuracy: 0.6903 - loss: 0.5363 - val_accuracy: 0.8081 - val_loss: 0.4391\n",
      "Epoch 9/10\n",
      "\u001b[1m200/200\u001b[0m \u001b[32m━━━━━━━━━━━━━━━━━━━━\u001b[0m\u001b[37m\u001b[0m \u001b[1m145s\u001b[0m 725ms/step - accuracy: 0.8222 - loss: 0.4134 - val_accuracy: 0.8637 - val_loss: 0.3420\n",
      "Epoch 10/10\n",
      "\u001b[1m200/200\u001b[0m \u001b[32m━━━━━━━━━━━━━━━━━━━━\u001b[0m\u001b[37m\u001b[0m \u001b[1m146s\u001b[0m 730ms/step - accuracy: 0.9210 - loss: 0.2273 - val_accuracy: 0.9419 - val_loss: 0.1742\n"
     ]
    }
   ],
   "source": [
    "from tensorflow.keras.callbacks import EarlyStopping\n",
    "\n",
    "early_stopping = EarlyStopping(\n",
    "    monitor='val_loss',\n",
    "    patience=5,\n",
    "    restore_best_weights=True\n",
    ")\n",
    "\n",
    "history = model.fit(\n",
    "    X_train, y_train,\n",
    "    epochs=10,\n",
    "    batch_size=32,\n",
    "    validation_split=0.2,\n",
    "    callbacks=[early_stopping]\n",
    ")\n"
   ]
  },
  {
   "cell_type": "code",
   "execution_count": 30,
   "id": "500d9290",
   "metadata": {
    "execution": {
     "iopub.execute_input": "2024-12-11T17:04:18.787050Z",
     "iopub.status.busy": "2024-12-11T17:04:18.786704Z",
     "iopub.status.idle": "2024-12-11T17:04:32.231910Z",
     "shell.execute_reply": "2024-12-11T17:04:32.231008Z"
    },
    "papermill": {
     "duration": 13.544657,
     "end_time": "2024-12-11T17:04:32.233599",
     "exception": false,
     "start_time": "2024-12-11T17:04:18.688942",
     "status": "completed"
    },
    "tags": []
   },
   "outputs": [
    {
     "data": {
      "image/png": "[encoded data removed]",
      "text/plain": [
       "<Figure size 1200x800 with 1 Axes>"
      ]
     },
     "metadata": {},
     "output_type": "display_data"
    },
    {
     "name": "stdout",
     "output_type": "stream",
     "text": [
      "\u001b[1m63/63\u001b[0m \u001b[32m━━━━━━━━━━━━━━━━━━━━\u001b[0m\u001b[37m\u001b[0m \u001b[1m13s\u001b[0m 199ms/step - accuracy: 0.9406 - loss: 0.1830\n",
      "Loss     :  0.18523921072483063\n",
      "accuracy :  0.9399999976158142\n"
     ]
    }
   ],
   "source": [
    "import pandas as pd\n",
    "import matplotlib.pyplot as plt\n",
    "pd.DataFrame(history.history).plot(figsize=(12, 8))\n",
    "plt.grid(True)\n",
    "plt.gca().set_ylim(0, 1) # set the vertical range to [0-1]\n",
    "plt.show()\n",
    "\n",
    "model_evaluate = model.evaluate(X_test, y_test)\n",
    "print(\"Loss     : \",model_evaluate[0])\n",
    "print(\"accuracy : \",model_evaluate[1])"
   ]
  },
  {
   "cell_type": "code",
   "execution_count": 31,
   "id": "c607e5d6",
   "metadata": {
    "execution": {
     "iopub.execute_input": "2024-12-11T17:04:32.463330Z",
     "iopub.status.busy": "2024-12-11T17:04:32.462998Z",
     "iopub.status.idle": "2024-12-11T17:04:46.240995Z",
     "shell.execute_reply": "2024-12-11T17:04:46.239904Z"
    },
    "papermill": {
     "duration": 13.888735,
     "end_time": "2024-12-11T17:04:46.243949",
     "exception": false,
     "start_time": "2024-12-11T17:04:32.355214",
     "status": "completed"
    },
    "tags": []
   },
   "outputs": [
    {
     "name": "stdout",
     "output_type": "stream",
     "text": [
      "\u001b[1m63/63\u001b[0m \u001b[32m━━━━━━━━━━━━━━━━━━━━\u001b[0m\u001b[37m\u001b[0m \u001b[1m13s\u001b[0m 205ms/step\n",
      "Classification report : \n",
      "               precision    recall  f1-score   support\n",
      "\n",
      "         0.0       0.94      0.94      0.94      1003\n",
      "         1.0       0.94      0.94      0.94       997\n",
      "\n",
      "    accuracy                           0.94      2000\n",
      "   macro avg       0.94      0.94      0.94      2000\n",
      "weighted avg       0.94      0.94      0.94      2000\n",
      "\n",
      "Confusion matrix : \n",
      "\n"
     ]
    },
    {
     "data": {
      "image/png": "[encoded data removed]",
      "text/plain": [
       "<Figure size 640x480 with 1 Axes>"
      ]
     },
     "metadata": {},
     "output_type": "display_data"
    },
    {
     "name": "stdout",
     "output_type": "stream",
     "text": [
      "Normalized confusion matrix : \n",
      "\n"
     ]
    },
    {
     "data": {
      "image/png": "[encoded data removed]",
      "text/plain": [
       "<Figure size 640x480 with 1 Axes>"
      ]
     },
     "metadata": {},
     "output_type": "display_data"
    }
   ],
   "source": [
    "y_pred = (model.predict(X_test).argmax(axis=-1)).tolist()\n",
    "\n",
    "class_names = [str(name) for name in LB.classes_]\n",
    "\n",
    "from sklearn.metrics import classification_report, confusion_matrix\n",
    "print(\"Classification report : \\n\",classification_report(y_test, y_pred, target_names = class_names))\n",
    "\n",
    "import seaborn as sns\n",
    "def draw_confusion_matrix(true, preds, normalize=None):\n",
    "  conf_matx = confusion_matrix(true, preds, normalize = normalize)\n",
    "  conf_matx = np.round(conf_matx, 2)\n",
    "\n",
    "  sns.heatmap(conf_matx, annot=True, annot_kws={\"size\": 12},fmt=\"g\", cbar=False, cmap=\"viridis\")\n",
    "  plt.show()\n",
    "\n",
    "print(\"Confusion matrix : \\n\")\n",
    "draw_confusion_matrix(y_test, y_pred)\n",
    "\n",
    "print(\"Normalized confusion matrix : \\n\")\n",
    "draw_confusion_matrix(y_test, y_pred,\"true\")"
   ]
  }
 ],
 "metadata": {
  "kaggle": {
   "accelerator": "nvidiaTeslaT4",
   "dataSources": [
    {
     "datasetId": 4288635,
     "sourceId": 7379779,
     "sourceType": "datasetVersion"
    }
   ],
   "dockerImageVersionId": 30787,
   "isGpuEnabled": true,
   "isInternetEnabled": true,
   "language": "python",
   "sourceType": "notebook"
  },
  "kernelspec": {
   "display_name": "base",
   "language": "python",
   "name": "python3"
  },
  "language_info": {
   "codemirror_mode": {
    "name": "ipython",
    "version": 3
   },
   "file_extension": ".py",
   "mimetype": "text/x-python",
   "name": "python",
   "nbconvert_exporter": "python",
   "pygments_lexer": "ipython3",
   "version": "3.12.7"
  },
  "papermill": {
   "default_parameters": {},
   "duration": 1562.102883,
   "end_time": "2024-12-11T17:04:49.080378",
   "environment_variables": {},
   "exception": null,
   "input_path": "__notebook__.ipynb",
   "output_path": "__notebook__.ipynb",
   "parameters": {},
   "start_time": "2024-12-11T16:38:46.977495",
   "version": "2.6.0"
  }
 },
 "nbformat": 4,
 "nbformat_minor": 5
}
